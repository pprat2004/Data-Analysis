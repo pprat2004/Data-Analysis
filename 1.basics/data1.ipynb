{
 "cells": [
  {
   "cell_type": "code",
   "execution_count": 4,
   "id": "11eeb5e5-89c9-4042-bac9-d6d1066ff896",
   "metadata": {},
   "outputs": [],
   "source": [
    "job_data = [\n",
    "    {\n",
    "        \"job_title\": \"Data Scientist - NLP\",\n",
    "        \"job_skills\": [\"Python\", \"Natural Language Processing\", \"TensorFlow\", \"SpaCy\", \"Machine Learning\"],\n",
    "        \"remote\": True\n",
    "    },\n",
    "    {\n",
    "        \"job_title\": \"Machine Learning Engineer\",\n",
    "        \"job_skills\": [\"Python\", \"Scikit-learn\", \"AWS\", \"Docker\", \"Data Pipelines\"],\n",
    "        \"remote\": False\n",
    "    },\n",
    "    {\n",
    "        \"job_title\": \"Data Analyst\",\n",
    "        \"job_skills\": [\"SQL\", \"Tableau\", \"Excel\", \"Data Visualization\", \"Statistics\"],\n",
    "        \"remote\": True\n",
    "    },\n",
    "    {\n",
    "        \"job_title\": \"AI Research Scientist\",\n",
    "        \"job_skills\": [\"Deep Learning\", \"PyTorch\", \"Computer Vision\", \"C++\", \"MATLAB\"],\n",
    "        \"remote\": False\n",
    "    },\n",
    "    {\n",
    "        \"job_title\": \"Business Intelligence Developer\",\n",
    "        \"job_skills\": [\"Power BI\", \"ETL\", \"SQL\", \"Data Warehousing\", \"DAX\"],\n",
    "        \"remote\": True\n",
    "    }]\n"
   ]
  },
  {
   "cell_type": "code",
   "execution_count": 4,
   "id": "78b1b74b-2a55-4461-8350-9d86775bb666",
   "metadata": {},
   "outputs": [],
   "source": [
    "import my_module"
   ]
  },
  {
   "cell_type": "code",
   "execution_count": 8,
   "id": "847d7d28-9244-4d6b-bb74-a9778ed7c57e",
   "metadata": {},
   "outputs": [
    {
     "ename": "AttributeError",
     "evalue": "module 'my_module' has no attribute 'skill_list'",
     "output_type": "error",
     "traceback": [
      "\u001b[1;31m---------------------------------------------------------------------------\u001b[0m",
      "\u001b[1;31mAttributeError\u001b[0m                            Traceback (most recent call last)",
      "Cell \u001b[1;32mIn[8], line 1\u001b[0m\n\u001b[1;32m----> 1\u001b[0m my_module\u001b[38;5;241m.\u001b[39mskill_list\n",
      "\u001b[1;31mAttributeError\u001b[0m: module 'my_module' has no attribute 'skill_list'"
     ]
    }
   ],
   "source": [
    "my_module.skill_list"
   ]
  },
  {
   "cell_type": "code",
   "execution_count": 6,
   "id": "e7c9f41c-13d0-4653-b970-72bdb61c7783",
   "metadata": {},
   "outputs": [
    {
     "name": "stdout",
     "output_type": "stream",
     "text": [
      "Help on class filter in module builtins:\n",
      "\n",
      "class filter(object)\n",
      " |  filter(function or None, iterable) --> filter object\n",
      " |\n",
      " |  Return an iterator yielding those items of iterable for which function(item)\n",
      " |  is true. If function is None, return the items that are true.\n",
      " |\n",
      " |  Methods defined here:\n",
      " |\n",
      " |  __getattribute__(self, name, /)\n",
      " |      Return getattr(self, name).\n",
      " |\n",
      " |  __iter__(self, /)\n",
      " |      Implement iter(self).\n",
      " |\n",
      " |  __next__(self, /)\n",
      " |      Implement next(self).\n",
      " |\n",
      " |  __reduce__(...)\n",
      " |      Return state information for pickling.\n",
      " |\n",
      " |  ----------------------------------------------------------------------\n",
      " |  Static methods defined here:\n",
      " |\n",
      " |  __new__(*args, **kwargs)\n",
      " |      Create and return a new object.  See help(type) for accurate signature.\n",
      "\n"
     ]
    }
   ],
   "source": [
    "help(filter)"
   ]
  },
  {
   "cell_type": "code",
   "execution_count": 16,
   "id": "14768c8c-46d8-4991-b3a7-bca797367353",
   "metadata": {},
   "outputs": [
    {
     "data": {
      "text/plain": [
       "[{'job_title': 'Data Scientist - NLP',\n",
       "  'job_skills': ['Python',\n",
       "   'Natural Language Processing',\n",
       "   'TensorFlow',\n",
       "   'SpaCy',\n",
       "   'Machine Learning'],\n",
       "  'remote': True}]"
      ]
     },
     "execution_count": 16,
     "metadata": {},
     "output_type": "execute_result"
    }
   ],
   "source": [
    "list(filter(lambda job: job['remote'] and 'Python' in job['job_skills'],job_data))"
   ]
  }
 ],
 "metadata": {
  "kernelspec": {
   "display_name": "Python 3 (ipykernel)",
   "language": "python",
   "name": "python3"
  },
  "language_info": {
   "codemirror_mode": {
    "name": "ipython",
    "version": 3
   },
   "file_extension": ".py",
   "mimetype": "text/x-python",
   "name": "python",
   "nbconvert_exporter": "python",
   "pygments_lexer": "ipython3",
   "version": "3.12.7"
  }
 },
 "nbformat": 4,
 "nbformat_minor": 5
}
