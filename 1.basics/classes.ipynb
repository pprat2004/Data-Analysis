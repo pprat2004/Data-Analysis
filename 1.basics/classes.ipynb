{
 "cells": [
  {
   "cell_type": "code",
   "execution_count": 1,
   "id": "aa8840f1-e906-4c01-a5af-50a962d7b5ba",
   "metadata": {},
   "outputs": [],
   "source": [
    "class BaseSalary:\n",
    "    def __init__(self,base_salary,bonus_rate = 0.1,symbol = '$'):\n",
    "        self.base_salary = base_salary\n",
    "        self.bonus_rate = bonus_rate\n",
    "        self.symbol = symbol\n",
    "        self.total_salary = base_salary * (1 + bonus_rate)\n",
    "        self.bonus_salary = (self.total_salary - base_salary) / base_salary\n",
    "\n",
    "    def __repr__(self):\n",
    "        return f'{self.symbol}{self.base_salary:,.2f}'\n",
    "\n",
    "    def calculate_salary(self):\n",
    "        return f'{self.symbol}{self.total_salary:,.2f}'\n",
    "\n",
    "    def calculate_bonus(self):\n",
    "        return f'{self.symbol}{self.bonus_salary:,.2f}'\n",
    "        "
   ]
  },
  {
   "cell_type": "code",
   "execution_count": 2,
   "id": "a8ca4882-af7a-4f95-8114-c2984d05c0b6",
   "metadata": {},
   "outputs": [
    {
     "data": {
      "text/plain": [
       "'$'"
      ]
     },
     "execution_count": 2,
     "metadata": {},
     "output_type": "execute_result"
    }
   ],
   "source": [
    "salary = BaseSalary(100000)\n",
    "salary.symbol"
   ]
  },
  {
   "cell_type": "code",
   "execution_count": 3,
   "id": "47b47cd1-2473-4359-8bff-082da5d895f7",
   "metadata": {},
   "outputs": [
    {
     "data": {
      "text/plain": [
       "$100,000.00"
      ]
     },
     "execution_count": 3,
     "metadata": {},
     "output_type": "execute_result"
    }
   ],
   "source": [
    "salary"
   ]
  },
  {
   "cell_type": "code",
   "execution_count": 4,
   "id": "5d00d209-b1c1-4209-8568-15b2dacf00a1",
   "metadata": {},
   "outputs": [
    {
     "data": {
      "text/plain": [
       "'$110,000.00'"
      ]
     },
     "execution_count": 4,
     "metadata": {},
     "output_type": "execute_result"
    }
   ],
   "source": [
    "salary.calculate_salary()"
   ]
  },
  {
   "cell_type": "code",
   "execution_count": 5,
   "id": "6155df4d-7922-422f-a7b8-8fa759de0628",
   "metadata": {},
   "outputs": [
    {
     "data": {
      "text/plain": [
       "'$0.10'"
      ]
     },
     "execution_count": 5,
     "metadata": {},
     "output_type": "execute_result"
    }
   ],
   "source": [
    "salary.calculate_bonus()"
   ]
  }
 ],
 "metadata": {
  "kernelspec": {
   "display_name": "python_course",
   "language": "python",
   "name": "python3"
  },
  "language_info": {
   "codemirror_mode": {
    "name": "ipython",
    "version": 3
   },
   "file_extension": ".py",
   "mimetype": "text/x-python",
   "name": "python",
   "nbconvert_exporter": "python",
   "pygments_lexer": "ipython3",
   "version": "3.11.13"
  }
 },
 "nbformat": 4,
 "nbformat_minor": 5
}
